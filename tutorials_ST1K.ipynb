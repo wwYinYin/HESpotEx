{
 "cells": [
  {
   "cell_type": "code",
   "execution_count": null,
   "metadata": {},
   "outputs": [],
   "source": [
    "import scanpy as sc\n",
    "import numpy as np\n",
    "import pandas as pd\n",
    "import os\n",
    "from model.expression_embedding import expression_GVAE\n",
    "from common.data_processing import data_preprocessing_ST1K\n",
    "from common.dataset import CLIPDataset\n",
    "import torch\n",
    "import train"
   ]
  },
  {
   "cell_type": "code",
   "execution_count": null,
   "metadata": {},
   "outputs": [],
   "source": [
    "input_path='/home2/mengfanyi/YW/HE_predict/data/HEST/COLON-CANCER/'\n",
    "raw_adata_list1, raw_HE_image_paths1,raw_nuclei_mask_paths1=data_preprocessing_ST1K(input_path)\n",
    "raw_names1 = [d[:-5] for d in os.listdir(input_path) if d.endswith('.h5ad')]\n",
    "\n",
    "input_path='/home2/mengfanyi/YW/HE_predict/data/HEST/COLON-HEALTHY/'\n",
    "raw_adata_list2, raw_HE_image_paths2,raw_nuclei_mask_paths2=data_preprocessing_ST1K(input_path)\n",
    "raw_names2 = [d[:-5] for d in os.listdir(input_path) if d.endswith('.h5ad')]\n",
    "\n",
    "adata_list=raw_adata_list1+raw_adata_list2\n",
    "HE_image_paths=raw_HE_image_paths1+raw_HE_image_paths2\n",
    "nuclei_mask_paths=raw_nuclei_mask_paths1+raw_nuclei_mask_paths2\n",
    "names=raw_names1+raw_names2\n",
    "\n",
    "save_dir='./data/HEST/COLON-CANCER-HEALTHY/'\n",
    "\n",
    "print(names)\n",
    "print(len(names))\n",
    "print(len(adata_list))\n",
    "print(len(HE_image_paths))"
   ]
  },
  {
   "cell_type": "code",
   "execution_count": null,
   "metadata": {},
   "outputs": [],
   "source": [
    "for i in range(len(adata_list)):\n",
    "    sc.pp.filter_genes(adata_list[i], min_cells=1)\n",
    "    sc.pp.filter_cells(adata_list[i], min_genes=1)\n",
    "    adata_list[i].var_names_make_unique()\n",
    "\n",
    "shared_var_names = set(adata_list[0].var_names)\n",
    "for adata in adata_list[1:]:\n",
    "    shared_var_names.intersection_update(adata.var_names)\n",
    "print(len(shared_var_names))\n",
    "\n",
    "\n",
    "for i in range(len(adata_list)):\n",
    "    adata_list[i] = adata_list[i][:, list(shared_var_names)]\n",
    "    \n",
    "print(adata_list[0])"
   ]
  },
  {
   "cell_type": "code",
   "execution_count": null,
   "metadata": {},
   "outputs": [],
   "source": [
    "Input_Method='hvg'\n",
    "new_adata_list=expression_GVAE(adatas=adata_list,method='GATE',feature_method=Input_Method,n_top_genes=1000)\n",
    "print(new_adata_list[0])"
   ]
  },
  {
   "cell_type": "code",
   "execution_count": null,
   "metadata": {},
   "outputs": [],
   "source": [
    "print(new_adata_list[0].obsm['embedding_rep'].shape)\n",
    "image_embedding=new_adata_list[0].obsm['embedding_rep'].shape[1]\n",
    "out_embedding=new_adata_list[0].X.shape[1]\n",
    "print(out_embedding)"
   ]
  },
  {
   "cell_type": "code",
   "execution_count": null,
   "metadata": {},
   "outputs": [],
   "source": [
    "dataset_list=[]\n",
    "for i in range(len(new_adata_list)):\n",
    "    if 'block_r' in adata_list[i].uns:\n",
    "        new_adata_list[i].uns['block_r']=adata_list[i].uns['block_r']\n",
    "        print(new_adata_list[i].uns['block_r'])\n",
    "    dataset = CLIPDataset(image_path = HE_image_paths[i],ST_adata = new_adata_list[i],nuclei_mask_path=nuclei_mask_paths[i])\n",
    "    dataset_list.append(dataset)\n",
    "print(dataset_list)"
   ]
  },
  {
   "cell_type": "code",
   "execution_count": null,
   "metadata": {},
   "outputs": [],
   "source": [
    "# Leave-one-out cross validation\n",
    "train_index=[i for i in range(len(new_adata_list))]\n",
    "val_index=None\n",
    "\n",
    "for i in train_index: \n",
    "    test_index=[i]\n",
    "    new_train_index = [item for item in train_index if item not in test_index]\n",
    "    train_dataset = torch.utils.data.ConcatDataset([dataset_list[i] for i in new_train_index])\n",
    "    val_dataset = None\n",
    "    test_dataset = torch.utils.data.ConcatDataset([dataset_list[i] for i in test_index])\n",
    "    print(names[test_index[0]])\n",
    "    savepath=os.path.join(save_dir,names[test_index[0]],'results/')\n",
    "    if not os.path.exists(savepath):\n",
    "        os.makedirs(savepath)\n",
    "\n",
    "    best_predict=train.main(train_dataset, val_dataset, test_dataset, image_embedding, \n",
    "                        out_embedding, max_epochs=30, save_path=savepath)\n",
    "    predict_adata=new_adata_list[test_index[0]].copy()\n",
    "    predict_adata.X=best_predict[0].copy()\n",
    "\n",
    "    gt_adata=new_adata_list[test_index[0]].copy()\n",
    "    predict_adata.write_h5ad(os.path.join(savepath,'my_pre.h5ad'))\n",
    "    gt_adata.write_h5ad(os.path.join(savepath,'my_gt.h5ad'))"
   ]
  }
 ],
 "metadata": {
  "kernelspec": {
   "display_name": "yi",
   "language": "python",
   "name": "python3"
  },
  "language_info": {
   "codemirror_mode": {
    "name": "ipython",
    "version": 3
   },
   "file_extension": ".py",
   "mimetype": "text/x-python",
   "name": "python",
   "nbconvert_exporter": "python",
   "pygments_lexer": "ipython3",
   "version": "3.9.18"
  }
 },
 "nbformat": 4,
 "nbformat_minor": 2
}
