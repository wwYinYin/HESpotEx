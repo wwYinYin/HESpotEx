{
 "cells": [
  {
   "cell_type": "markdown",
   "metadata": {},
   "source": [
    "HEST"
   ]
  },
  {
   "cell_type": "code",
   "execution_count": 1,
   "metadata": {},
   "outputs": [],
   "source": [
    "import os\n",
    "from PIL import Image\n",
    "Image.MAX_IMAGE_PIXELS = 2800000000\n",
    "import numpy as np\n",
    "from cellpose import models\n",
    "\n",
    "model_cellpose = models.Cellpose(gpu=True, model_type='nuclei')\n",
    "\n",
    "def process_images(root_dir):\n",
    "    for subdir, _, files in os.walk(root_dir):\n",
    "        for file in files:\n",
    "            if file.endswith('.tif'):\n",
    "                file_path = os.path.join(subdir, file)\n",
    "                npy_file_path = os.path.splitext(file_path)[0] + '.npy'\n",
    "                if os.path.exists(npy_file_path):\n",
    "                    continue\n",
    "                if not os.path.exists(file_path.replace('.tif', '.h5ad')):\n",
    "                    print(file_path)\n",
    "                    continue\n",
    "\n",
    "                image = Image.open(file_path)\n",
    "                image = np.array(image)\n",
    "                image = image[:,:,0:3]\n",
    "                print(image.shape)\n",
    "\n",
    "                nuclei_masks,_,_,_=model_cellpose.eval(image, flow_threshold=0.8, diameter=None, \n",
    "                                                   min_size=15,channels=[1,0], invert=True)\n",
    "                print(nuclei_masks.shape)\n",
    "\n",
    "                np.save(npy_file_path, nuclei_masks)\n",
    "                print(f\"Processed and saved: {npy_file_path}\")\n",
    "\n",
    "# 使用示例\n",
    "root_directorys=['./data/HEST/COLON-CANCER/','./data/HEST/COLON-HEALTHY/']\n",
    "for root_directory in root_directorys:\n",
    "    process_images(root_directory)"
   ]
  }
 ],
 "metadata": {
  "kernelspec": {
   "display_name": "yi",
   "language": "python",
   "name": "python3"
  },
  "language_info": {
   "codemirror_mode": {
    "name": "ipython",
    "version": 3
   },
   "file_extension": ".py",
   "mimetype": "text/x-python",
   "name": "python",
   "nbconvert_exporter": "python",
   "pygments_lexer": "ipython3",
   "version": "3.9.18"
  }
 },
 "nbformat": 4,
 "nbformat_minor": 2
}
